{
 "cells": [
  {
   "cell_type": "markdown",
   "metadata": {},
   "source": [
    "1.1 Write a Python Program(with class concepts) to find the area of the triangle using the below\n",
    "formula.\n",
    "area = (s*(s-a)*(s-b)*(s-c)) ** 0.5     (GIVEN QUESTION)"
   ]
  },
  {
   "cell_type": "code",
   "execution_count": 1,
   "metadata": {},
   "outputs": [
    {
     "name": "stdout",
     "output_type": "stream",
     "text": [
      "The length's of sides entered are: 2 3 4\n",
      "The Area of the Given length's is: 2.9047375096555625\n"
     ]
    }
   ],
   "source": [
    "#Answer\n",
    "class sides_triangle:\n",
    "    def __init__(self,a,b,c):\n",
    "        self.a = a\n",
    "        self.b = b\n",
    "        self.c = c\n",
    "    def Represent(self):\n",
    "        return \"The length's of sides entered are: {} {} {}\".format(self.a, self.b, self.c)\n",
    "class Area(sides_triangle):\n",
    "    def __init__(self,a,b,c):\n",
    "        sides_triangle.__init__(self,a,b,c)\n",
    "    def area(self):\n",
    "        a = self.a\n",
    "        b = self.b\n",
    "        c = self.c\n",
    "        s = ((a+b+c)/2)\n",
    "        area = (s*(s-a)*(s-b)*(s-c))**0.5\n",
    "        return area\n",
    "# Answer\n",
    "Areas = Area(2,3,4)\n",
    "print(Areas.Represent())\n",
    "print(\"The Area of the Given length's is: {}\".format(Areas.area()))"
   ]
  },
  {
   "cell_type": "markdown",
   "metadata": {},
   "source": [
    "1.2 Write a function filter_long_words() that takes a list of words and an integer n and returns\n",
    "the list of words that are longer than n.  (GIVEN QUESTION)"
   ]
  },
  {
   "cell_type": "code",
   "execution_count": 2,
   "metadata": {},
   "outputs": [
    {
     "name": "stdout",
     "output_type": "stream",
     "text": [
      "['iNeuron', 'Inernship', 'DeepLearning', 'MachineLearning', 'iNeuron', 'Inernship', 'DeepLearning', 'MachineLearning']"
     ]
    }
   ],
   "source": [
    "#Answer\n",
    "def filter_long_words(W):\n",
    "    words = []\n",
    "    number = []\n",
    "    for i in W:\n",
    "        if type(i) == str:\n",
    "            words.append(i)\n",
    "        elif type(i) == int:\n",
    "            number.append(i)\n",
    "    l = max(number)\n",
    "    return (words*l)\n",
    "\n",
    "W = ['iNeuron','Inernship', 'DeepLearning', 'MachineLearning', 2]\n",
    "Result = filter_long_words(W)\n",
    "print(Result, end = '')"
   ]
  },
  {
   "cell_type": "markdown",
   "metadata": {},
   "source": [
    "2.1 Write a Python program using function concept that maps list of words into a list of integers\n",
    "representing the lengths of the corresponding words."
   ]
  },
  {
   "cell_type": "code",
   "execution_count": 3,
   "metadata": {},
   "outputs": [
    {
     "name": "stdout",
     "output_type": "stream",
     "text": [
      "['length is : 7', 'length is : 9', 'length is : 12', 'length is : 15']\n"
     ]
    }
   ],
   "source": [
    "#Answer\n",
    "def maping(OP):\n",
    "    D = []\n",
    "    for i in OP:\n",
    "        if type(i) == str:\n",
    "            T = len(i)\n",
    "            D.append('length is : {}'.format(T))\n",
    "    return D\n",
    "X = ['iNeuron','Inernship', 'DeepLearning', 'MachineLearning']\n",
    "V = maping(X)\n",
    "print(V)"
   ]
  },
  {
   "cell_type": "markdown",
   "metadata": {},
   "source": [
    "2.2 Write a Python function which takes a character (i.e. a string of length 1) and returns True if\n",
    "it is a vowel, False otherwise. (GIVEN QUESTION)"
   ]
  },
  {
   "cell_type": "code",
   "execution_count": 4,
   "metadata": {},
   "outputs": [
    {
     "name": "stdout",
     "output_type": "stream",
     "text": [
      "True,True,False,False,True,False."
     ]
    }
   ],
   "source": [
    "#Answer\n",
    "def find(A):\n",
    "    V = ['A', 'E', 'I', 'O', 'U']\n",
    "    T = A.upper()\n",
    "    if T in V:\n",
    "        return True\n",
    "    else:\n",
    "        return False\n",
    "print(find('o'), find('u'), find('t'), find('p'), find('u'), find('t'), sep=',', end='.')"
   ]
  }
 ],
 "metadata": {
  "kernelspec": {
   "display_name": "Python 3",
   "language": "python",
   "name": "python3"
  },
  "language_info": {
   "codemirror_mode": {
    "name": "ipython",
    "version": 3
   },
   "file_extension": ".py",
   "mimetype": "text/x-python",
   "name": "python",
   "nbconvert_exporter": "python",
   "pygments_lexer": "ipython3",
   "version": "3.6.9"
  }
 },
 "nbformat": 4,
 "nbformat_minor": 4
}
