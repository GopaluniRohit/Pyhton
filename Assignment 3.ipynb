{
 "cells": [
  {
   "cell_type": "markdown",
   "metadata": {},
   "source": [
    "#1.1 Write a Python Program to implement your own myreduce() function which works exactly\n",
    "like Python's built-in function reduce() (GIVEN QUESTION)"
   ]
  },
  {
   "cell_type": "code",
   "execution_count": 1,
   "metadata": {},
   "outputs": [
    {
     "name": "stdout",
     "output_type": "stream",
     "text": [
      "Builtin Reduce function value: -2432902008176640000\n",
      "Developed myreduce function value: -2432902008176640000\n"
     ]
    }
   ],
   "source": [
    "# reduce buit_in_function\n",
    "from functools import reduce \n",
    "lst =[1,2,3,4,5,6,7,8,9,10,11,12,-13,-14,15,-16,17,-18,19,-20]\n",
    "print('Builtin Reduce function value: {}'.format(reduce(lambda a,b: a*b,lst)))\n",
    "\n",
    "def myreduce(List, Function):\n",
    "    L = List[0]\n",
    "    if Function == 'Exponential':\n",
    "        for i in List[1:]:\n",
    "            L **= i\n",
    "    elif Function == 'Division':\n",
    "        for i in List[1:]:\n",
    "            L /= i\n",
    "    elif Function == 'Multiplication':\n",
    "        for i in List[1:]:\n",
    "            L *= i\n",
    "    elif Function == 'Addition':\n",
    "        for i in List[1:]:\n",
    "            L += i\n",
    "    elif Function == 'Subtraction':\n",
    "        for i in List[1:]:\n",
    "            L -= i\n",
    "    elif Function == 'Percentile':\n",
    "        for i in List[1:]:\n",
    "            L %= i\n",
    "    return L\n",
    "\n",
    "A = myreduce(lst, Function = 'Multiplication')\n",
    "print('Developed myreduce function value: {}'.format(A))"
   ]
  },
  {
   "cell_type": "markdown",
   "metadata": {},
   "source": [
    "#1.2 Write a Python program to implement your own myfilter() function which works exactly\n",
    "like Python's built-in function filter() (GIVEN QUESTION)"
   ]
  },
  {
   "cell_type": "code",
   "execution_count": 2,
   "metadata": {},
   "outputs": [
    {
     "name": "stdout",
     "output_type": "stream",
     "text": [
      "Builtin filter function value: [1, 3, 5, 7, 9]\n",
      "Developed myfilter function value: [1, 3, 5, 7, 9]\n"
     ]
    }
   ],
   "source": [
    "def Odd_num(num):\n",
    "    if num%2 != 0:\n",
    "        return True\n",
    "\n",
    "def myfilter(num, Type):\n",
    "    Even = []\n",
    "    Odd = []\n",
    "    if Type == 'Even':\n",
    "        for i in num:\n",
    "            if i%2 == 0:\n",
    "                Even.append(i)\n",
    "        return Even\n",
    "    if Type == 'Odd':\n",
    "        for j in num:\n",
    "            if j%2 != 0:\n",
    "                Odd.append(j)\n",
    "        return Odd\n",
    "\n",
    "N = [1,2,3,4,5,6,7,8,9]\n",
    "print('Builtin filter function value: {}'.format(list(filter(Odd_num,N))))\n",
    "print('Developed myfilter function value: {}'.format(myfilter(N, Type = 'Odd')))"
   ]
  },
  {
   "cell_type": "markdown",
   "metadata": {},
   "source": [
    "Write List comprehensions to produce the following Lists (GIVEN QUESTION)\n",
    "\n",
    "['x', 'xx', 'xxx', 'xxxx', 'y', 'yy', 'yyy', 'yyyy', 'z', 'zz', 'zzz', 'zzzz']/\n",
    "['x', 'y', 'z', 'xx', 'yy', 'zz', 'xxx', 'yyy', 'zzz', 'xxxx', 'yyyy', 'zzzz']/\n",
    "[[2], [3], [4], [3], [4], [5], [4], [5], [6]] [[2, 3, 4, 5], [3, 4, 5, 6],\n",
    "[4, 5, 6, 7], [5, 6, 7, 8]]/\n",
    "[(1, 1), (2, 1), (3, 1), (1, 2), (2, 2), (3, 2), (1, 3), (2, 3), (3, 3)]"
   ]
  },
  {
   "cell_type": "code",
   "execution_count": 3,
   "metadata": {},
   "outputs": [
    {
     "name": "stdout",
     "output_type": "stream",
     "text": [
      "['X', 'XX', 'XXX', 'XXXX', 'Y', 'YY', 'YYY', 'YYYY', 'Z', 'ZZ', 'ZZZ', 'ZZZZ']\n",
      "['X', 'Y', 'Z', 'XX', 'YY', 'ZZ', 'XXX', 'YYY', 'ZZZ', 'XXXX', 'YYYY', 'ZZZZ']\n",
      "[[[2], [3], [4], [3], [4], [5], [4], [5], [6], [2, 3, 4, 5], [3, 4, 5, 6], [4, 5, 6, 7], [5, 6, 7, 8]]]\n",
      "[(1, 1), (2, 1), (3, 1), (1, 2), (2, 2), (3, 2), (1, 3), (2, 3), (3, 3)]\n"
     ]
    }
   ],
   "source": [
    "L = [1,2,3,4]\n",
    "X = ['X','Y','Z']\n",
    "U = [2,3,4,5,6,7,8,9]\n",
    "\n",
    "#1\n",
    "A = [j*i for i in L for j in X ]\n",
    "print(sorted(A))\n",
    "print(A)\n",
    "\n",
    "#2\n",
    "B = [[[U[i]] for i in range(0,3)] + [[U[j]] for j in range(1,4)] + [[U[k]] for k in range(2,5)] + [U[:i] for i in range(0,5) if i == 4] + [U[1:i] for i in range(1,6) if i == 5] + [U[2:i] for i in range(2,7) if i == 6] + [U[3:i] for i in range(3,8) if i == 7]]\n",
    "print(B)\n",
    "\n",
    "#3\n",
    "V = [(j,i) for i in range(1,4) for j in [1,2,3]]\n",
    "print(V)"
   ]
  }
 ],
 "metadata": {
  "kernelspec": {
   "display_name": "Python 3",
   "language": "python",
   "name": "python3"
  },
  "language_info": {
   "codemirror_mode": {
    "name": "ipython",
    "version": 3
   },
   "file_extension": ".py",
   "mimetype": "text/x-python",
   "name": "python",
   "nbconvert_exporter": "python",
   "pygments_lexer": "ipython3",
   "version": "3.6.9"
  }
 },
 "nbformat": 4,
 "nbformat_minor": 4
}
