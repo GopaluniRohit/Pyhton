{
 "cells": [
  {
   "cell_type": "markdown",
   "metadata": {},
   "source": [
    "1. Write a function to compute 5/0 and use try/except to catch the exceptions. (GIVEN QUESTION)"
   ]
  },
  {
   "cell_type": "code",
   "execution_count": 1,
   "metadata": {},
   "outputs": [
    {
     "name": "stdout",
     "output_type": "stream",
     "text": [
      "4\n",
      "entered value is not 5\n",
      "6\n",
      "entered value is not 5\n",
      "8\n",
      "entered value is not 5\n",
      "7\n",
      "entered value is not 5\n",
      "5\n",
      "the error is ZeroDivision, hence the output is : 0\n"
     ]
    }
   ],
   "source": [
    "def divide_by_zero():\n",
    "    while True:\n",
    "        try:\n",
    "            N = int(input())\n",
    "            if N == 5:\n",
    "                print(5/0)\n",
    "                break\n",
    "            else:\n",
    "                print('entered value is not 5')\n",
    "        except ZeroDivisionError:\n",
    "            print('the error is ZeroDivision, hence the output is : %d' %(0))\n",
    "            break\n",
    "        continue\n",
    "divide_by_zero()"
   ]
  },
  {
   "cell_type": "markdown",
   "metadata": {},
   "source": [
    "Implement a Python program to generate all sentences where subject is in\n",
    "[\"Americans\", \"Indians\"] and verb is in [\"Play\", \"watch\"] and the object is in\n",
    "[\"Baseball\",\"cricket\"].  (GIVEN QUESTION)"
   ]
  },
  {
   "cell_type": "code",
   "execution_count": 2,
   "metadata": {},
   "outputs": [],
   "source": [
    "def generate(s,v,o):\n",
    "    for i in s:\n",
    "        for j in v:\n",
    "            for k in o:\n",
    "                yield i,j,k\n",
    "s = subjects=[\"Americans \",\"Indians\"]\n",
    "v = verbs=[\"play\",\"watch\"]\n",
    "o = objects=[\"Baseball\",\"Cricket\"]\n",
    "n = generate(subjects,verbs,objects)"
   ]
  },
  {
   "cell_type": "code",
   "execution_count": 3,
   "metadata": {},
   "outputs": [
    {
     "name": "stdout",
     "output_type": "stream",
     "text": [
      "('Americans ', 'play', 'Baseball')\n"
     ]
    }
   ],
   "source": [
    "print(next(n))"
   ]
  }
 ],
 "metadata": {
  "kernelspec": {
   "display_name": "Python 3",
   "language": "python",
   "name": "python3"
  },
  "language_info": {
   "codemirror_mode": {
    "name": "ipython",
    "version": 3
   },
   "file_extension": ".py",
   "mimetype": "text/x-python",
   "name": "python",
   "nbconvert_exporter": "python",
   "pygments_lexer": "ipython3",
   "version": "3.6.9"
  }
 },
 "nbformat": 4,
 "nbformat_minor": 4
}
